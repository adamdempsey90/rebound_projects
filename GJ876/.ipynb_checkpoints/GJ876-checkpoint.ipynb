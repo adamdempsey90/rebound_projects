{
 "cells": [
  {
   "cell_type": "code",
   "execution_count": 2,
   "metadata": {
    "collapsed": true
   },
   "outputs": [],
   "source": [
    "import matplotlib.pyplot as plt\n",
    "import numpy as np\n",
    "import rebound as rb\n",
    "import reboundx as rbx\n",
    "%matplotlib inline"
   ]
  },
  {
   "cell_type": "code",
   "execution_count": 3,
   "metadata": {
    "collapsed": false
   },
   "outputs": [],
   "source": [
    "init_params=[]\n",
    "init_params.append({'m': 0.0008, 'rho': 1.04534352444679,'a':0.275,'e':0.01,'inc':0 \n",
    "                    }) #,'omega':np.deg2rad(176.839),'Omega':np.deg2rad(351.238),'M':np.deg2rad(251.503)})\n",
    "init_params.append({'m':0.00254,'rho':1.04534352444679,'a': 0.5,'e': 0.01, 'inc':0\n",
    "                   }) #,'omega': np.deg2rad(157.419),'Omega': np.deg2rad(207.477),'M':np.deg2rad(210.452)})\n",
    "init_params.append({'m':5e-05,'rho':1.04534352444679,'a':0.9 ,'e':0.01,'inc':0 \n",
    "                   }) #,'omega':np.deg2rad(99.629),'Omega':np.deg2rad(257.996),'M':np.deg2rad(343.739)})"
   ]
  },
  {
   "cell_type": "code",
   "execution_count": 4,
   "metadata": {
    "collapsed": false
   },
   "outputs": [],
   "source": [
    "def mod_2pi(p):\n",
    "    \"\"\" Mod an angle to be between 0 and 2*pi\"\"\"\n",
    "    res = p\n",
    "    while res < 0:\n",
    "        res += 2*np.pi\n",
    "    return np.mod(res,2*np.pi)\n",
    "def mod_pi(p):\n",
    "    \"\"\" Mod an angle that's between -pi and pi to 0 to 2*pi\"\"\"\n",
    "    return mod_2pi(p+np.pi)\n",
    "\n",
    "def calc_timescale(t,tau,t0):\n",
    "    temp = 1 - .5*(1 + np.tanh( (t - t0)/tau))\n",
    "    if temp < 1e-8:\n",
    "        return np.infty\n",
    "    else:\n",
    "        return 1/temp"
   ]
  },
  {
   "cell_type": "code",
   "execution_count": 35,
   "metadata": {
    "collapsed": false
   },
   "outputs": [
    {
     "data": {
      "text/plain": [
       "[<matplotlib.lines.Line2D at 0x7f15679786d0>]"
      ]
     },
     "execution_count": 35,
     "metadata": {},
     "output_type": "execute_result"
    },
    {
     "data": {
      "image/png": "[encoded data removed]",
      "text/plain": [
       "<matplotlib.figure.Figure at 0x7f1570fc9150>"
      ]
     },
     "metadata": {},
     "output_type": "display_data"
    }
   ],
   "source": [
    "t=np.linspace(0,1000.,1000)\n",
    "plt.semilogx(t,(1-.5*(1+np.tanh((t-100)/10))))"
   ]
  },
  {
   "cell_type": "code",
   "execution_count": 108,
   "metadata": {
    "collapsed": true
   },
   "outputs": [],
   "source": [
    "class Results():\n",
    "    def __init__(self,times=np.linspace(0,100.,100),npart=3,fromfile=None):\n",
    "        if fromfile is not None:\n",
    "            self.read_state(fromfile)\n",
    "        else:\n",
    "            self.times = times\n",
    "            self.npart = npart\n",
    "            self.megno = np.zeros(times.shape)\n",
    "            self.lyap = np.zeros(times.shape)\n",
    "            self.energy = np.zeros(times.shape)\n",
    "            self.avals = np.zeros((len(times),npart))\n",
    "            self.avalsf = np.zeros((len(times),npart))\n",
    "            self.evals = np.zeros((len(times),npart))\n",
    "            self.ivals = np.zeros((len(times),npart))\n",
    "            self.pvals = np.zeros((len(times),npart))\n",
    "            self.lapvals = np.zeros(times.shape)\n",
    "            self.dtvals = np.zeros(times.shape)\n",
    "            self.tend=times[-1]\n",
    "            self.stage_one_time = np.infty\n",
    "            self.stage_two_time = np.infty\n",
    "        \n",
    "    def plot(self,fname=None):\n",
    "        fig,axes=plt.subplots(7,1,sharex=True,figsize=(10,15))\n",
    "        axa = axes[0]\n",
    "        axe = axes[1]\n",
    "        axl = axes[2]\n",
    "        axE = axes[3]\n",
    "        axmeg = axes[4]\n",
    "        axper = axes[5]\n",
    "        axdt = axes[6]\n",
    "\n",
    "        ind = self.times<self.tend\n",
    "\n",
    "\n",
    "        axa.plot(self.times[ind],self.avals[ind,0],'-b',\n",
    "                 self.times[ind],self.avals[ind,1],'-g',\n",
    "                 self.times[ind],self.avals[ind,2],'-r')\n",
    "        \n",
    "        axe.plot(self.times[ind],self.evals[ind,0],'-b',\n",
    "                 self.times[ind],self.evals[ind,1],'-g',\n",
    "                 self.times[ind],self.evals[ind,2],'-r')\n",
    "        \n",
    "        axl.plot(self.times[ind],np.rad2deg(np.abs(self.lapvals[ind]-np.pi)))\n",
    "\n",
    "\n",
    "        axE.plot(self.times[ind],abs((self.energy-self.energy[0])/self.energy[0])[ind])\n",
    "        #axmeg.plot(times[ind],megno[ind])\n",
    "        #axmeg.plot(times[ind],1/lyap[ind])\n",
    "        axmeg.plot(self.times, ( 1/self.lyap )) #/self.sim.tau_e)\n",
    "        axper.plot(self.times[ind],self.pvals[ind,2]/self.pvals[ind,1],'-b',label='$P_3/P_2$')\n",
    "        axper.plot(self.times[ind],self.pvals[ind,1]/self.pvals[ind,0],'-g', label='$P_2/P_1$')\n",
    "        axper.plot(self.times[ind],self.pvals[ind,2]/self.pvals[ind,0],'-r',label='$P_3/P_1$')\n",
    "        axa.set_ylabel('a')\n",
    "        axe.set_ylabel('e')\n",
    "        axl.set_ylabel('$|\\\\phi_{Laplace}|$')\n",
    "        axE.set_ylabel('$\\\\Delta E / E$')\n",
    "        axper.set_ylabel('$P_2/P_1$')\n",
    "        axmeg.set_ylabel('$\\\\tau_{lyap}/\\\\tau_e$ (yrs)')\n",
    "        axes[-1].set_xlabel('t (yrs)')\n",
    "        axper.legend(loc='upper right')\n",
    "        axper.axhline(4,color='k')\n",
    "        axper.axhline(2,color='k')\n",
    "\n",
    "        axdt.plot(self.times[ind],self.dtvals[ind])\n",
    "        axdt.plot(self.times[ind], self.pvals[ind,0] * (1-self.evals[ind,0])**(1.5) / 10,'--k',linewidth=3)\n",
    "        axdt.set_ylabel('$\\\\Delta t$')\n",
    "        #axes[2].set_yscale('log')\n",
    "        #axes[0].set_ylim(0,1)\n",
    "        #axes[4].set_ylim(1,3)\n",
    "        for ax in axes:\n",
    "            ax.minorticks_on()\n",
    "            if self.stage_one_time < self.tend:\n",
    "                ax.axvline(self.stage_one_time,color='k',linewidth=3)\n",
    "            if self.stage_two_time < self.tend:\n",
    "                ax.axvline(self.stage_two_time,color='k',linestyle='-',linewidth=3)\n",
    "        #axes[0].set_xscale('log')\n",
    "        if fname is not None:\n",
    "            fig.savefig(fname)\n",
    "        return\n",
    "    \n",
    "    def plot_laplace(self):\n",
    "        if self.times[-1] < self.stage_two_time:\n",
    "            print 'Simulation never got past stage two!'\n",
    "            return\n",
    "        ind2 = (self.times<=self.tend)&(self.times>self.stage_two_time)\n",
    "        t2 = self.times[ind2]\n",
    "        vals = np.abs(self.lapvals[ind2]-np.pi)\n",
    "        lp_mean = np.rad2deg(np.array([vals[t2<=x].mean() for x in t2]))\n",
    "        lp_std = np.rad2deg(np.array([vals[t2<=x].std() for x in t2]))\n",
    "\n",
    "        e3 = self.evals[ind2,2]\n",
    "        e_mean =  np.array([ e3[t2<=x].mean() for x in t2 ])\n",
    "        e_std = np.array([e3[t2<=x].std() for x in t2 ])\n",
    "\n",
    "        e2 = self.evals[ind2,1]\n",
    "        e2_mean =  np.array([ e2[t2<=x].mean() for x in t2 ])\n",
    "        e2_std = np.array([e2[t2<=x].std() for x in t2 ])\n",
    "\n",
    "\n",
    "        fig,axes=plt.subplots(1,2,figsize=(10,4))\n",
    "        axes[0].plot(t2-t2[0],np.rad2deg(vals),'-b',alpha=.6)\n",
    "        axes[0].plot(t2-t2[0],lp_mean,'-k',linewidth=3)\n",
    "        axes[0].fill_between(t2-t2[0],lp_mean-lp_std,lp_mean+lp_std,color='r',alpha=.3)\n",
    "        axes[1].plot(t2-t2[0],e3,'-b',alpha=.6)\n",
    "        axes[1].plot(t2-t2[0],e_mean,'-k',linewidth=3)\n",
    "        axes[1].fill_between(t2-t2[0],e_mean-e_std,e_mean+e_std,color='r',alpha=.3)\n",
    "        axes[1].plot(t2-t2[0],e2,'-g',alpha=.6)\n",
    "        axes[1].plot(t2-t2[0],e2_mean,'--k',linewidth=3)\n",
    "        axes[1].fill_between(t2-t2[0],e2_mean-e2_std,e2_mean+e2_std,color='m',alpha=.6)\n",
    "        for ax in axes:\n",
    "            ax.minorticks_on()\n",
    "    def save_state(self,fname='results.dat'):\n",
    "        \n",
    "        with open(fname,'wb') as f:\n",
    "            np.array([float(len(self.times)),float(self.npart)]).tofile(f)\n",
    "            self.times.tofile(f)\n",
    "            self.megno.tofile(f)\n",
    "            self.lyap.tofile(f)\n",
    "            self.energy.tofile(f)\n",
    "            self.avals.tofile(f)\n",
    "            self.avalsf.tofile(f)\n",
    "            self.evals.tofile(f)\n",
    "            self.ivals.tofile(f)\n",
    "            self.pvals.tofile(f)\n",
    "            self.lapvals.tofile(f)\n",
    "            self.dtvals.tofile(f)\n",
    "            np.array([self.tend]).tofile(f)\n",
    "            np.array([self.stage_one_time]).tofile(f)\n",
    "            np.array([self.stage_two_time]).tofile(f)\n",
    "        return   \n",
    "    def read_state(self,fname='results.dat'):\n",
    "        dat = np.fromfile(fname)\n",
    "        nt,npart = dat[:2]\n",
    "        npart = int(npart)\n",
    "        nt = int(nt)\n",
    "        self.npart = npart\n",
    "        \n",
    "        dat = dat[2:]\n",
    "        self.times = dat[:nt]\n",
    "        dat = dat[nt:]\n",
    "        self.megno = dat[:nt]\n",
    "        dat = dat[nt:]\n",
    "        self.lyap = dat[:nt]\n",
    "        dat = dat[nt:]\n",
    "        self.energy = dat[:nt]\n",
    "        dat = dat[nt:]\n",
    "        self.avals = dat[:nt*npart].reshape((nt,npart))\n",
    "        dat = dat[nt*npart:]\n",
    "        self.avalsf = dat[:nt*npart].reshape((nt,npart))\n",
    "        dat = dat[nt*npart:]\n",
    "        self.evals = dat[:nt*npart].reshape((nt,npart))\n",
    "        dat = dat[nt*npart:]\n",
    "        self.ivals = dat[:nt*npart].reshape((nt,npart))\n",
    "        dat = dat[nt*npart:]\n",
    "        self.pvals = dat[:nt*npart].reshape((nt,npart))\n",
    "        dat = dat[nt*npart:]\n",
    "        \n",
    "        self.lapvals = dat[:nt]\n",
    "        dat = dat[nt:]\n",
    "        self.dtvals = dat[:nt]\n",
    "        dat = dat[nt:]\n",
    "        \n",
    "        self.tend,self.stage_one_time,self.stage_two_time = dat[:3]\n",
    "        \n",
    "        return"
   ]
  },
  {
   "cell_type": "code",
   "execution_count": 88,
   "metadata": {
    "collapsed": false
   },
   "outputs": [],
   "source": [
    "def set_sim(init_params, tau_e=1e3,K=100.,dt=.02,integrator='WHFast'):\n",
    "    sim = rb.Simulation()\n",
    "    sim.add(m=1.)\n",
    "    for p in init_params:\n",
    "            try:\n",
    "                p.pop('rho')\n",
    "            except KeyError:\n",
    "                pass\n",
    "            sim.add(**p)\n",
    "    sim.move_to_com()\n",
    "    sim.integrator = integrator\n",
    "    ps = sim.particles\n",
    "    sim.dt = dt #2*np.pi/ps[1].n * (1-ps[1].e)**(1.5) / 10\n",
    "    sim.exit_max_distance = 5.\n",
    "    sim.exit_min_distance = 3 * ps[2].a*np.sqrt(ps[2].m/3)\n",
    "\n",
    "    rebx = rbx.Extras(sim)\n",
    "    params = rebx.add_modify_orbits_direct()\n",
    "\n",
    "    sim.particles[-1].tau_a = -tau_e * K\n",
    "    sim.particles[-1].tau_e = -tau_e\n",
    "    #sim.init_megno(1e-16)\n",
    "\n",
    "    print ps[-1].tau_a, ps[-1].tau_e\n",
    "    return sim"
   ]
  },
  {
   "cell_type": "code",
   "execution_count": 100,
   "metadata": {
    "collapsed": false,
    "scrolled": true
   },
   "outputs": [],
   "source": [
    "def run_sim(sim,start=0,end=1e6,nt=1e4):\n",
    "    times = np.linspace(float(start),float(end),nt)\n",
    "    res = Results(times)\n",
    "    ps = sim.particles\n",
    "    stage_one_complete = False\n",
    "    stage_two_complete = False\n",
    "    stage_one_time = 0\n",
    "    stage_two_time = 0\n",
    "    res.tend = times[-1]\n",
    "\n",
    "    for i,t in enumerate(times):\n",
    "        try:\n",
    "            sim.integrate(t*2*np.pi,exact_finish_time=0)\n",
    "        except rb.Escape as error:\n",
    "            print error\n",
    "            res.tend = t\n",
    "            break\n",
    "        except rb.Encounter as error:\n",
    "            print error\n",
    "            res.tend = t\n",
    "            break\n",
    "        sim.calculate_orbits()\n",
    "        if not stage_one_complete:\n",
    "            if ps[-2].n/ps[-1].n <= 2.0:\n",
    "                print 'Outer pair hit 2:1 resonance at t=%f' % (t*2*np.pi)\n",
    "                stage_one_complete = True\n",
    "                res.stage_one_time = t\n",
    "#            ps[-2].tau_a = ps[-1].tau_a\n",
    "#            ps[-2].tau_e = ps[-1].tau_e \n",
    "#             ps[-1].tau_a = np.infty\n",
    "#             ps[-1].tau_e = np.infty\n",
    "\n",
    "        if stage_one_complete and not stage_two_complete:\n",
    "            if ps[-3].n/ps[-2].n <= 2.0:\n",
    "                print 'Inner pair hit 2:1 resonance at t=%f' % (t*2*np.pi)\n",
    "                res.stage_two_time = t\n",
    "                ps[-1].tau_a = np.infty\n",
    "                ps[-1].tau_e = np.infty\n",
    "#            ps[-2].tau_a = np.infty\n",
    "#            ps[-2].tau_e = np.infty\n",
    "                stage_two_complete = True\n",
    "            \n",
    "#            tend = t\n",
    "#            break\n",
    "                sim.init_megno()\n",
    "        \n",
    "        res.avals[i,:] = [p.a for p in ps[1:]]\n",
    "        res.evals[i,:] = [p.e for p in ps[1:]]\n",
    "        res.ivals[i,:] = [p.inc for p in ps[1:]]\n",
    "        res.pvals[i,:] = [p.P for p in ps[1:]]\n",
    "        res.lapvals[i] = mod_2pi(mod_pi(ps[1].l) - 3*mod_pi(ps[2].l) + 2*mod_pi(ps[3].l))\n",
    "        if stage_two_complete:\n",
    "            res.megno[i] = sim.calculate_megno()\n",
    "            res.lyap[i] = sim.calculate_lyapunov()\n",
    "        \n",
    "        res.energy[i] = sim.calculate_energy()\n",
    "        res.dtvals[i] = sim.dt\n",
    "    ind = times<res.tend\n",
    "    p3p2 = res.pvals[ind,2][-1]/res.pvals[ind,1][-1]\n",
    "    p2p1 = res.pvals[ind,1][-1]/res.pvals[ind,0][-1]\n",
    "    print 'Final Planet Ratio:\\t{:.1f} : {:.1f} : 1'.format(p3p2*p2p1,p2p1)\n",
    "    for i in range(len(ps[1:])):\n",
    "        res.avalsf[:,i] = (res.avals[:,i]-res.avals[0,i])/(res.avals[0,i])\n",
    "\n",
    "    print 'Final Configuration:'\n",
    "    for i,p in enumerate(ps[1:],start=1):\n",
    "        print 'i={:d}\\tP={:.3f}\\ta={:.3f}\\te={:.3f}\\ti={:.3f}\\tomega={:.3f}\\tOmega={:3f}\\tM={:3f}'.format(i,p.P,p.a,p.e,np.rad2deg(p.inc),np.rad2deg(p.omega),np.rad2deg(p.Omega),np.rad2deg(p.M))\n",
    "    return res"
   ]
  },
  {
   "cell_type": "code",
   "execution_count": 109,
   "metadata": {
    "collapsed": false
   },
   "outputs": [
    {
     "name": "stdout",
     "output_type": "stream",
     "text": [
      "-3000.0 -30.0\n"
     ]
    }
   ],
   "source": [
    "sim = set_sim(init_params,tau_e=30)"
   ]
  },
  {
   "cell_type": "code",
   "execution_count": null,
   "metadata": {
    "collapsed": false,
    "scrolled": true
   },
   "outputs": [
    {
     "name": "stdout",
     "output_type": "stream",
     "text": [
      "Outer pair hit 2:1 resonance at t=1132.105461\n"
     ]
    }
   ],
   "source": [
    "res=run_sim(sim,end=1e4,nt=1e3)\n",
    "#res.plot()"
   ]
  },
  {
   "cell_type": "code",
   "execution_count": null,
   "metadata": {
    "collapsed": false
   },
   "outputs": [],
   "source": [
    "res.plot_laplace()"
   ]
  },
  {
   "cell_type": "raw",
   "metadata": {},
   "source": []
  },
  {
   "cell_type": "code",
   "execution_count": null,
   "metadata": {
    "collapsed": true
   },
   "outputs": [],
   "source": []
  }
 ],
 "metadata": {
  "kernelspec": {
   "display_name": "Python 2",
   "language": "python",
   "name": "python2"
  },
  "language_info": {
   "codemirror_mode": {
    "name": "ipython",
    "version": 2
   },
   "file_extension": ".py",
   "mimetype": "text/x-python",
   "name": "python",
   "nbconvert_exporter": "python",
   "pygments_lexer": "ipython2",
   "version": "2.7.6"
  }
 },
 "nbformat": 4,
 "nbformat_minor": 0
}
