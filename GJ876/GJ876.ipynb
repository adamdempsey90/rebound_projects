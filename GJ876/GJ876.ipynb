{
 "cells": [
  {
   "cell_type": "code",
   "execution_count": 1,
   "metadata": {
    "collapsed": false
   },
   "outputs": [],
   "source": [
    "import matplotlib.pyplot as plt\n",
    "import numpy as np\n",
    "import rebound as rb\n",
    "import reboundx as rbx\n",
    "%matplotlib inline"
   ]
  },
  {
   "cell_type": "code",
   "execution_count": 375,
   "metadata": {
    "collapsed": false
   },
   "outputs": [],
   "source": [
    "init_params=[]\n",
    "init_params.append({'m':0.37,'a':0})\n",
    "init_params.append({'m': 0.00082, 'rho': 1.04534352444679,'a':0.275,'e':0.01,'inc':0 \n",
    "                    }) #,'omega':np.deg2rad(176.839),'Omega':np.deg2rad(351.238),'M':np.deg2rad(251.503)})\n",
    "init_params.append({'m':0.00256,'rho':1.04534352444679,'a': 0.5,'e': 0.01, 'inc':0\n",
    "                   }) #,'omega': np.deg2rad(157.419),'Omega': np.deg2rad(207.477),'M':np.deg2rad(210.452)})\n",
    "init_params.append({'m':5.0e-05,'rho':1.04534352444679,'a':0.9 ,'e':0.01,'inc':0 \n",
    "                   }) #,'omega':np.deg2rad(99.629),'Omega':np.deg2rad(257.996),'M':np.deg2rad(343.739)})\n",
    "\n",
    "# \"a\": 0.37\n",
    "# \"d\": 1.86692890529e-05 0.0218393505695 0.117647076404\n",
    "# \"c\": 0.000819877377988 0.135977725208 0.252775297533\n",
    "# \"b\": 0.00256199089351 0.218624478036 0.0382920578617\n",
    "# \"e\": 5.1297108479e-05 0.348915983756 0.0731667298653"
   ]
  },
  {
   "cell_type": "code",
   "execution_count": 250,
   "metadata": {
    "collapsed": false
   },
   "outputs": [],
   "source": [
    "def mod_2pi(ang):\n",
    "    \"\"\" Mod an angle to be between 0 and 2*pi\"\"\"\n",
    "    try:\n",
    "        for i,p in enumerate(ang):\n",
    "            while p < 0:\n",
    "                p += 2*np.pi\n",
    "            while p > 2*np.pi:\n",
    "                p -= 2*np.pi\n",
    "            ang[i] = p\n",
    "    except TypeError:\n",
    "        while ang < 0:\n",
    "            ang += 2*np.pi\n",
    "        while ang > 2*np.pi:\n",
    "            ang-= 2*np.pi\n",
    "           \n",
    "    return ang\n",
    "\n",
    "def mod_pi(ang):\n",
    "    \"\"\" Mod an angle that's between -pi and pi to 0 to 2*pi\"\"\"\n",
    "    try:\n",
    "        for i,p in enumerate(ang):\n",
    "            while p < -np.pi:\n",
    "                p += 2*np.pi\n",
    "            while p > np.pi:\n",
    "                p -= 2*np.pi\n",
    "            ang[i] = p\n",
    "    except TypeError:\n",
    "        while ang < -np.pi:\n",
    "            ang += 2*np.pi\n",
    "        while ang > np.pi:\n",
    "            ang-= 2*np.pi\n",
    "           \n",
    "    return ang\n",
    "\n",
    "def calc_timescale(t,tau,t0,ti):\n",
    "    \n",
    "    temp = ( 1- .5*(1 + np.tanh( (t - t0)/tau)) )/ti\n",
    "    if temp < 1e-8:\n",
    "        return np.infty\n",
    "    else:\n",
    "        return 1/temp"
   ]
  },
  {
   "cell_type": "code",
   "execution_count": 5,
   "metadata": {
    "collapsed": false
   },
   "outputs": [
    {
     "data": {
      "text/plain": [
       "[<matplotlib.lines.Line2D at 0x114210890>]"
      ]
     },
     "execution_count": 5,
     "metadata": {},
     "output_type": "execute_result"
    },
    {
     "data": {
      "image/png": "[encoded data removed]",
      "text/plain": [
       "<matplotlib.figure.Figure at 0x11416d550>"
      ]
     },
     "metadata": {},
     "output_type": "display_data"
    }
   ],
   "source": [
    "t=np.linspace(0,1000.,1000)\n",
    "plt.semilogx(t,(1-.5*(1+np.tanh((t-100)/10))))"
   ]
  },
  {
   "cell_type": "code",
   "execution_count": 370,
   "metadata": {
    "collapsed": false
   },
   "outputs": [],
   "source": [
    "class Results():\n",
    "    def __init__(self,times=np.linspace(0,100.,100),npart=3,fromfile=None):\n",
    "        if fromfile is not None:\n",
    "            self.read_state(fromfile)\n",
    "        else:\n",
    "            self.times = times\n",
    "            self.npart = npart\n",
    "            self.megno = np.zeros(times.shape)\n",
    "            self.lyap = np.zeros(times.shape)\n",
    "            self.energy = np.zeros(times.shape)\n",
    "            self.avals = np.zeros((len(times),npart))\n",
    "            self.avalsf = np.zeros((len(times),npart))\n",
    "            self.evals = np.zeros((len(times),npart))\n",
    "            self.ivals = np.zeros((len(times),npart))\n",
    "            self.pvals = np.zeros((len(times),npart))\n",
    "            self.lapvals = np.zeros(times.shape)\n",
    "            self.dtvals = np.zeros(times.shape)\n",
    "            self.tend=times[-1]\n",
    "            self.stage_one_time = np.infty\n",
    "            self.stage_two_time = np.infty\n",
    "    def copy_final(self,res_old):\n",
    "        self.avals[0,:] = res_old.avals[-1,:]\n",
    "        self.evals[0,:] = res_old.evals[-1,:]\n",
    "        self.ivals[0,:] = res_old.ivals[-1,:]\n",
    "        self.pvals[0,:] = res_old.pvals[-1,:]\n",
    "        self.lapvals[0] = res_old.lapvals[-1]\n",
    "        self.megno[0] = res_old.megno[-1]\n",
    "        self.lyap[0] = res_old.lyap[-1]\n",
    "        self.energy[0] = res_old.energy[-1]\n",
    "        self.dtvals[0] = res_old.dtvals[-1]\n",
    "        return\n",
    "    def update(self,sim,i,chaos=False):\n",
    "        if chaos:\n",
    "            ps = sim.particles[:(self.npart+1)]\n",
    "        else:\n",
    "            ps = sim.particles\n",
    "        self.avals[i,:] = [p.a for p in ps[1:]]\n",
    "        self.evals[i,:] = [p.e for p in ps[1:]]\n",
    "        self.ivals[i,:] = [p.inc for p in ps[1:]]\n",
    "        self.pvals[i,:] = [p.P for p in ps[1:]]\n",
    "        self.lapvals[i] = mod_2pi(ps[1].l - 3*ps[2].l + 2*ps[3].l)\n",
    "        if chaos:\n",
    "            self.megno[i] = sim.calculate_megno()\n",
    "            self.lyap[i] = sim.calculate_lyapunov()\n",
    "        \n",
    "        self.energy[i] = sim.calculate_energy()\n",
    "        self.dtvals[i] = sim.dt\n",
    "        return\n",
    "    def cut(self):\n",
    "        ind = self.times <= self.tend\n",
    "        self.times = self.times[ind]\n",
    "        self.avals = self.avals[ind,:]\n",
    "        self.evals = self.evals[ind,:]\n",
    "        self.pvals = self.pvals[ind,:]\n",
    "        self.ivals = self.ivals[ind,:]\n",
    "        self.lapvals = self.lapvals[ind]\n",
    "        self.energy = self.energy[ind]\n",
    "        self.dtvals = self.dtvals[ind]\n",
    "        self.megno = self.megno[ind]\n",
    "        self.lyap = self.lyap[ind]\n",
    "            \n",
    "        return\n",
    "    def plot(self,fname=None):\n",
    "        fig,axes=plt.subplots(7,1,sharex=True,figsize=(10,15))\n",
    "        axa = axes[0]\n",
    "        axe = axes[1]\n",
    "        axl = axes[2]\n",
    "        axE = axes[3]\n",
    "        axmeg = axes[4]\n",
    "        axper = axes[5]\n",
    "        axmeg2 = axes[6]\n",
    "\n",
    "        ind = self.times<=self.tend\n",
    "\n",
    "\n",
    "        axa.plot(self.times[ind],self.avals[ind,0],'-b',\n",
    "                 self.times[ind],self.avals[ind,1],'-g',\n",
    "                 self.times[ind],self.avals[ind,2],'-r')\n",
    "        \n",
    "        axe.plot(self.times[ind],self.evals[ind,0],'-b',\n",
    "                 self.times[ind],self.evals[ind,1],'-g',\n",
    "                 self.times[ind],self.evals[ind,2],'-r')\n",
    "        \n",
    "        axl.plot(self.times[ind],mod_pi(self.lapvals[ind])*180./np.pi)\n",
    "\n",
    "        axE.plot(self.times[ind],abs((self.energy-self.energy[0])/self.energy[0])[ind])\n",
    "        #axE.set_yscale('log')\n",
    "        axmeg2.plot(self.times[ind],self.megno[ind])\n",
    "        \n",
    "        #axmeg.plot(times[ind],1/lyap[ind])\n",
    "        #axmeg.plot(self.times[ind], ( 1/self.lyap )) #/self.sim.tau_e)\n",
    "        axper.plot(self.times[ind],self.pvals[ind,2]/self.pvals[ind,1],'-b',label='$P_3/P_2$')\n",
    "        axper.plot(self.times[ind],self.pvals[ind,1]/self.pvals[ind,0],'-g', label='$P_2/P_1$')\n",
    "        axper.plot(self.times[ind],self.pvals[ind,2]/self.pvals[ind,0],'-r',label='$P_3/P_1$')\n",
    "        axa.set_ylabel('a',fontsize=15)\n",
    "        axe.set_ylabel('e',fontsize=15)\n",
    "        axl.set_ylabel('$|\\\\phi_{Laplace}|$',fontsize=15)\n",
    "        axE.set_ylabel('$\\\\Delta E / E$',fontsize=15)\n",
    "        axper.set_ylabel('$P_2/P_1$',fontsize=15)\n",
    "        axmeg.set_ylabel('$\\\\tau_{lyap}/\\\\tau_e$ (yrs)',fontsize=15)\n",
    "        axes[-1].set_xlabel('t (yrs)',fontsize=15)\n",
    "        axper.legend(loc='upper right')\n",
    "        axper.axhline(4,color='k')\n",
    "        axper.axhline(2,color='k')\n",
    "        axl.set_ylim(-20,20)\n",
    "\n",
    "        axmeg2.set_ylabel('MEGNO',fontsize=15)\n",
    "        #axdt.plot(self.times[ind],self.dtvals[ind])\n",
    "        #axdt.plot(self.times[ind], self.pvals[ind,0] * (1-self.evals[ind,0])**(1.5) / 10,'--k',linewidth=3)\n",
    "        #axdt.set_ylabel('$\\\\Delta t$')\n",
    "        #axes[2].set_yscale('log')\n",
    "        #axes[0].set_ylim(0,1)\n",
    "        #axes[4].set_ylim(1,3)\n",
    "        for ax in axes:\n",
    "            ax.minorticks_on()\n",
    "            if self.stage_one_time < self.tend:\n",
    "                ax.axvline(self.stage_one_time,color='k',linewidth=3)\n",
    "            if self.stage_two_time < self.tend:\n",
    "                ax.axvline(self.stage_two_time,color='k',linestyle='-',linewidth=3)\n",
    "        #axes[0].set_xscale('log')\n",
    "        if fname is not None:\n",
    "            fig.savefig(fname)\n",
    "        return\n",
    "    \n",
    "    def plot_laplace(self):\n",
    "#         if self.times[-1] < self.stage_two_time:\n",
    "#             print 'Simulation never got past stage two!'\n",
    "#             return\n",
    "#        ind2 = (self.times<=self.tend)&(self.times>self.stage_two_time)\n",
    "        ind2 = (self.times<=self.tend)\n",
    "        t2 = self.times[ind2]\n",
    "    \n",
    "        #vals = np.abs(self.lapvals[ind2]-np.pi)\n",
    "        vals = mod_pi(self.lapvals[ind2])*180./np.pi\n",
    "        lp_mean =np.array([vals[t2<=x].mean() for x in t2])\n",
    "        lp_std = np.array([vals[t2<=x].std() for x in t2])\n",
    "\n",
    "        e3 = self.evals[ind2,2]\n",
    "        e_mean =  np.array([ e3[t2<=x].mean() for x in t2 ])\n",
    "        e_std = np.array([e3[t2<=x].std() for x in t2 ])\n",
    "\n",
    "        e2 = self.evals[ind2,1]\n",
    "        e2_mean =  np.array([ e2[t2<=x].mean() for x in t2 ])\n",
    "        e2_std = np.array([e2[t2<=x].std() for x in t2 ])\n",
    "        \n",
    "\n",
    "\n",
    "        fig,axes=plt.subplots(4,1,figsize=(10,4),sharex=True)\n",
    "        axes[0].plot(t2-t2[0],vals,'-b',alpha=.6)\n",
    "        axes[0].plot(t2-t2[0],lp_mean,'-k',linewidth=3)\n",
    "        axes[0].fill_between(t2-t2[0],lp_mean-lp_std,lp_mean+lp_std,color='r',alpha=.3)\n",
    "        axes[1].plot(t2-t2[0],e3,'-b',alpha=.6)\n",
    "        axes[1].plot(t2-t2[0],e_mean,'-k',linewidth=3)\n",
    "        axes[1].fill_between(t2-t2[0],e_mean-e_std,e_mean+e_std,color='r',alpha=.3)\n",
    "        axes[1].plot(t2-t2[0],e2,'-g',alpha=.6)\n",
    "        axes[1].plot(t2-t2[0],e2_mean,'--k',linewidth=3)\n",
    "        axes[1].fill_between(t2-t2[0],e2_mean-e2_std,e2_mean+e2_std,color='m',alpha=.6)\n",
    "       \n",
    "        axes[2].plot(t2-t2[0],1./self.lyap[ind2],'-b')\n",
    "        axes[3].plot(t2-t2[0],self.megno[ind2],'-b')\n",
    "        \n",
    "        axes[0].set_ylabel('$\\\\phi$',fontsize=20)\n",
    "        axes[1].set_ylabel('$e$',fontsize=20)\n",
    "        axes[3].set_xlabel('$t - t_0$',fontsize=20)\n",
    "        axes[2].set_ylabel('$\\\\tau_l$',fontsize=20)\n",
    "        axes[3].set_ylabel('MEGNO',fontsize=15)\n",
    "        plt.subplots_adjust(hspace=0)\n",
    "        #axes[2].set_yscale('log')\n",
    "        for ax in axes:\n",
    "            ax.minorticks_on()\n",
    "    def save_state(self,fname='results.dat'):\n",
    "        \n",
    "        with open(fname,'wb') as f:\n",
    "            np.array([float(len(self.times)),float(self.npart)]).tofile(f)\n",
    "            self.times.tofile(f)\n",
    "            self.megno.tofile(f)\n",
    "            self.lyap.tofile(f)\n",
    "            self.energy.tofile(f)\n",
    "            self.avals.tofile(f)\n",
    "            self.avalsf.tofile(f)\n",
    "            self.evals.tofile(f)\n",
    "            self.ivals.tofile(f)\n",
    "            self.pvals.tofile(f)\n",
    "            self.lapvals.tofile(f)\n",
    "            self.dtvals.tofile(f)\n",
    "            np.array([self.tend]).tofile(f)\n",
    "            np.array([self.stage_one_time]).tofile(f)\n",
    "            np.array([self.stage_two_time]).tofile(f)\n",
    "        return   \n",
    "    def read_state(self,fname='results.dat'):\n",
    "        dat = np.fromfile(fname)\n",
    "        nt,npart = dat[:2]\n",
    "        npart = int(npart)\n",
    "        nt = int(nt)\n",
    "        self.npart = npart\n",
    "        \n",
    "        dat = dat[2:]\n",
    "        self.times = dat[:nt]\n",
    "        dat = dat[nt:]\n",
    "        self.megno = dat[:nt]\n",
    "        dat = dat[nt:]\n",
    "        self.lyap = dat[:nt]\n",
    "        dat = dat[nt:]\n",
    "        self.energy = dat[:nt]\n",
    "        dat = dat[nt:]\n",
    "        self.avals = dat[:nt*npart].reshape((nt,npart))\n",
    "        dat = dat[nt*npart:]\n",
    "        self.avalsf = dat[:nt*npart].reshape((nt,npart))\n",
    "        dat = dat[nt*npart:]\n",
    "        self.evals = dat[:nt*npart].reshape((nt,npart))\n",
    "        dat = dat[nt*npart:]\n",
    "        self.ivals = dat[:nt*npart].reshape((nt,npart))\n",
    "        dat = dat[nt*npart:]\n",
    "        self.pvals = dat[:nt*npart].reshape((nt,npart))\n",
    "        dat = dat[nt*npart:]\n",
    "        \n",
    "        self.lapvals = dat[:nt]\n",
    "        dat = dat[nt:]\n",
    "        self.dtvals = dat[:nt]\n",
    "        dat = dat[nt:]\n",
    "        \n",
    "        self.tend,self.stage_one_time,self.stage_two_time = dat[:3]\n",
    "        \n",
    "        return"
   ]
  },
  {
   "cell_type": "code",
   "execution_count": 359,
   "metadata": {
    "collapsed": false
   },
   "outputs": [],
   "source": [
    "def set_sim(init_params,dt=.02,integrator='WHFast'):\n",
    "    sim = rb.Simulation()\n",
    "    sim.units = ('yr','AU','Msun')\n",
    "    for p in init_params:\n",
    "            try:\n",
    "                p.pop('rho')\n",
    "            except KeyError:\n",
    "                pass\n",
    "            sim.add(**p)\n",
    "    sim.move_to_com()\n",
    "    sim.integrator = integrator\n",
    "    ps = sim.particles\n",
    "    sim.dt = dt #2*np.pi/ps[1].n * (1-ps[1].e)**(1.5) / 10\n",
    "    sim.exit_max_distance = 5.\n",
    "    sim.exit_min_distance = 3 * ps[2].a*np.sqrt(ps[2].m/3)\n",
    "\n",
    "    \n",
    "    return sim"
   ]
  },
  {
   "cell_type": "code",
   "execution_count": 360,
   "metadata": {
    "collapsed": true
   },
   "outputs": [],
   "source": [
    "def mmr_stop(sim,t):\n",
    "    # calculate_orbits() has been run\n",
    "    ps = sim.particles\n",
    "    if ps[-2].n/ps[-1].n <= 2.0:\n",
    "         if ps[-3].n/ps[-2].n <= 2.0:\n",
    "                return True\n",
    "    return False\n",
    "    \n",
    "def run_constant_damping(sim,res,times,tau_e=1e2,K=1e1,stopping_criterion=mmr_stop):\n",
    "    rebx = rbx.Extras(sim)\n",
    "    params = rebx.add_modify_orbits_direct()\n",
    "\n",
    "    sim.particles[-1].tau_a = -tau_e * K\n",
    "    sim.particles[-1].tau_e = -tau_e\n",
    "\n",
    "  \n",
    "    res = run_sim(sim,res,times,chaos=False,stopping_criterion=stopping_criterion)\n",
    "    \n",
    "    \n",
    "    return res\n",
    "\n",
    "def run_sim(sim,res,times,chaos=False,stopping_criterion=None):\n",
    "    if chaos:\n",
    "        sim.init_megno()\n",
    "    \n",
    "    for i,t in enumerate(times):\n",
    "        try:\n",
    "            sim.integrate(t*2*np.pi,exact_finish_time=0)\n",
    "        except rb.Escape as error:\n",
    "            print error\n",
    "            res.tend = t\n",
    "            break\n",
    "        except rb.Encounter as error:\n",
    "            print error\n",
    "            res.tend = t\n",
    "            break\n",
    "        sim.calculate_orbits()\n",
    "        res.update(sim,i,chaos=chaos)\n",
    "        if stopping_criterion is not None:\n",
    "            if stopping_criterion(sim,t):\n",
    "                res.tend = t\n",
    "                res.cut()\n",
    "                print 'Stoping run at t=%f.'%res.tend\n",
    "                return res\n",
    "    res.tend = t\n",
    "    if stopping_criterion is not None:\n",
    "        print 'Finished before stopping criterion was met!'\n",
    "    return res\n",
    "            \n",
    "            \n",
    "def evolve(sim,tstart=0.0,tend=1e4,nt=1e3,tau_e=5e2,K=1e2,abrupt=True):\n",
    "    print 'Running with constant damping...'\n",
    "    times = np.linspace(tstart,tend,nt)\n",
    "    res = Results(times)\n",
    "    res=run_constant_damping(sim,res,times,tau_e=tau_e,K=K,stopping_criterion=mmr_stop)\n",
    "    \n",
    "    times = res.times[res.times<=res.tend]\n",
    "    if abrupt:\n",
    "        print 'Abruptly removing damping...'\n",
    "        sim.particles[-1].tau_e = np.infty\n",
    "        sim.particles[-1].tau_a = np.infty\n",
    "        times1=np.array([times[-1]])\n",
    "        res1=Results(times1)\n",
    "        times2 = np.linspace(sim.t,sim.t+1e4,1000)\n",
    "    else:\n",
    "        print 'Gradually removing damping...'\n",
    "        times1 = np.linspace(sim.t,sim.t+1e3,1e2)\n",
    "        res1=Results(times1)\n",
    "        res1=run_changing_damping(sim,res1,times1)\n",
    "        sim.particles[-1].tau_e = np.infty\n",
    "        sim.particles[-1].tau_a = np.infty\n",
    "        #times1 = res1.times[res1.times<=res1.tend]\n",
    "        times2 = np.linspace(sim.t,sim.t+1e4,1e3)\n",
    "    \n",
    "    print 'Running with no damping and chaos indicators...'\n",
    "    \n",
    "    #times2 = np.linspace(sim.t/(2*np.pi),sim.t/(2*np.pi)+1e4,1000)\n",
    "    res2=Results(times2)\n",
    "    #res2.update(sim,0,chaos=False)\n",
    "    res2=run_sim(sim,res2,times2,chaos=True)\n",
    "    \n",
    "    return res,res1,res2,sim\n",
    "\n",
    "def run_changing_damping(sim,res,times):\n",
    "    ps = sim.particles\n",
    "    tau_e_i = -ps[-1].tau_e\n",
    "    K = abs(ps[-1].tau_a/tau_e_i)\n",
    "    tot_time = times[-1]-times[0]\n",
    "    tau = tot_time / 1e2\n",
    "    t0 = times[0] + tot_time/2.\n",
    "    \n",
    "    tau_s = np.array([calc_timescale(t,tau,t0,tau_e_i) for t in times])\n",
    "    plt.semilogy(times,tau_s,'-x')\n",
    "    plt.ylabel('$\\\\tau_e$',fontsize=20)\n",
    "    plt.xlabel('$t$',fontsize=20)\n",
    "    for i,t in enumerate(times):\n",
    "        #ps = sim.particles\n",
    "        tau_e = calc_timescale(t,tau,t0,tau_e_i)\n",
    "        ps[-1].tau_e = -tau_e\n",
    "        ps[-1].tau_a = -tau_e * K\n",
    "        try:\n",
    "            sim.integrate(t*2*np.pi,exact_finish_time=0)\n",
    "        except rb.Escape as error:\n",
    "            print error\n",
    "            res.tend = t\n",
    "            break\n",
    "        except rb.Encounter as error:\n",
    "            print error\n",
    "            res.tend = t\n",
    "            break\n",
    "        sim.calculate_orbits()\n",
    "        res.update(sim,i,chaos=False)\n",
    "        \n",
    "\n",
    "    res.tend = t\n",
    "    return res\n",
    "\n"
   ]
  },
  {
   "cell_type": "code",
   "execution_count": 14,
   "metadata": {
    "collapsed": false,
    "scrolled": true
   },
   "outputs": [],
   "source": [
    "\n",
    "def run_for_time(sim,res,times)\n",
    "    ps = sim.particles\n",
    "    stage_one_complete = False\n",
    "    stage_two_complete = False\n",
    "    stage_one_time = 0\n",
    "    stage_two_time = 0\n",
    "    res.tend = times[-1]\n",
    "    \n",
    "\n",
    "    for i,t in enumerate(times):\n",
    "        try:\n",
    "            sim.integrate(t*2*np.pi,exact_finish_time=0)\n",
    "        except rb.Escape as error:\n",
    "            print error\n",
    "            res.tend = t\n",
    "            break\n",
    "        except rb.Encounter as error:\n",
    "            print error\n",
    "            res.tend = t\n",
    "            break\n",
    "        sim.calculate_orbits()\n",
    "        if not stage_one_complete:\n",
    "            if ps[-2].n/ps[-1].n <= 2.0:\n",
    "                print 'Outer pair hit 2:1 resonance at t=%f' % (t*2*np.pi)\n",
    "                stage_one_complete = True\n",
    "                res.stage_one_time = t\n",
    "#            ps[-2].tau_a = ps[-1].tau_a\n",
    "#            ps[-2].tau_e = ps[-1].tau_e \n",
    "#             ps[-1].tau_a = np.infty\n",
    "#             ps[-1].tau_e = np.infty\n",
    "\n",
    "        if stage_one_complete and not stage_two_complete:\n",
    "            if ps[-3].n/ps[-2].n <= 2.0:\n",
    "                print 'Inner pair hit 2:1 resonance at t=%f' % (t*2*np.pi)\n",
    "                res.stage_two_time = t\n",
    "                ps[-1].tau_a = np.infty\n",
    "                ps[-1].tau_e = np.infty\n",
    "#            ps[-2].tau_a = np.infty\n",
    "#            ps[-2].tau_e = np.infty\n",
    "                stage_two_complete = True\n",
    "            \n",
    "#            tend = t\n",
    "#            break\n",
    "                sim.init_megno()\n",
    "        if stage_two_complete:\n",
    "            tau_e = -ps[-1].tau_e\n",
    "        \n",
    "        res.avals[i,:] = [p.a for p in ps[1:]]\n",
    "        res.evals[i,:] = [p.e for p in ps[1:]]\n",
    "        res.ivals[i,:] = [p.inc for p in ps[1:]]\n",
    "        res.pvals[i,:] = [p.P for p in ps[1:]]\n",
    "        res.lapvals[i] = mod_2pi(ps[1].l - 3*ps[2].l + 2*ps[3].l)\n",
    "        if stage_two_complete:\n",
    "            res.megno[i] = sim.calculate_megno()\n",
    "            res.lyap[i] = sim.calculate_lyapunov()\n",
    "        \n",
    "        res.energy[i] = sim.calculate_energy()\n",
    "        res.dtvals[i] = sim.dt\n",
    "    ind = times<res.tend\n",
    "    p3p2 = res.pvals[ind,2][-1]/res.pvals[ind,1][-1]\n",
    "    p2p1 = res.pvals[ind,1][-1]/res.pvals[ind,0][-1]\n",
    "    print 'Final time:\\t{:.1f}'.format(res.tend)\n",
    "    print 'Final Planet Ratio:\\t{:.1f} : {:.1f} : 1'.format(p3p2*p2p1,p2p1)\n",
    "    for i in range(len(ps[1:])):\n",
    "        res.avalsf[:,i] = (res.avals[:,i]-res.avals[0,i])/(res.avals[0,i])\n",
    "\n",
    "    print 'Final Configuration:'\n",
    "    for i,p in enumerate(ps[1:],start=1):\n",
    "        print 'i={:d}\\tP={:.3f}\\ta={:.3f}\\te={:.3f}\\ti={:.3f}\\tomega={:.3f}\\tOmega={:3f}\\tM={:3f}'.format(i,p.P,p.a,p.e,np.rad2deg(p.inc),np.rad2deg(p.omega),np.rad2deg(p.Omega),np.rad2deg(p.M))\n",
    "    \n",
    "    return res"
   ]
  },
  {
   "cell_type": "code",
   "execution_count": 361,
   "metadata": {
    "collapsed": false
   },
   "outputs": [
    {
     "name": "stdout",
     "output_type": "stream",
     "text": [
      "---------------------------------\n",
      "REBOUND version:     \t2.14.3\n",
      "REBOUND built on:    \tApr 24 2016 14:31:28\n",
      "Number of particles: \t4\n",
      "Selected integrator: \twhfast\n",
      "Simulation time:     \t0.000000\n",
      "Current timestep:    \t0.020000\n",
      "---------------------------------\n",
      "<rebound.Particle object, id=0 m=0.37 x=-0.00411519158351 y=0.0 z=0.0 vx=0.0 vy=-0.0544438794083 vz=0.0>\n",
      "<rebound.Particle object, id=0 m=0.00082 x=0.268134808416 y=0.0 z=0.0 vx=0.0 vy=7.31491969811 vz=0.0>\n",
      "<rebound.Particle object, id=0 m=0.00256 x=0.491486839051 y=0.0 z=0.0 vx=0.0 vy=5.44595102044 vz=0.0>\n",
      "<rebound.Particle object, id=0 m=5e-05 x=0.890880700533 y=0.0 z=0.0 vx=0.0 vy=4.08733232576 vz=0.0>\n",
      "---------------------------------\n"
     ]
    }
   ],
   "source": [
    "sim = set_sim(init_params)\n",
    "sim.status()"
   ]
  },
  {
   "cell_type": "code",
   "execution_count": 381,
   "metadata": {
    "collapsed": false
   },
   "outputs": [
    {
     "name": "stdout",
     "output_type": "stream",
     "text": [
      "Running with constant damping...\n",
      "Finished before stopping criterion was met!\n",
      "Abruptly removing damping...\n",
      "Running with no damping and chaos indicators...\n"
     ]
    }
   ],
   "source": [
    "params = {'tstart': 0,\n",
    "         'tend': 1e4,\n",
    "         'nt' : 1e3,\n",
    "         'tau_e': 1e2,\n",
    "         'K': 1e1,\n",
    "         'abrupt': True}\n",
    "sim = set_sim(init_params,integrator='WHfast')\n",
    "res,res1,res2,sim=evolve(sim,**params)"
   ]
  },
  {
   "cell_type": "code",
   "execution_count": 382,
   "metadata": {
    "collapsed": false
   },
   "outputs": [
    {
     "name": "stderr",
     "output_type": "stream",
     "text": [
      "/Library/Python/2.7/site-packages/matplotlib/axes/_base.py:2787: UserWarning: Attempting to set identical left==right results\n",
      "in singular transformations; automatically expanding.\n",
      "left=-0.0, right=0.0\n",
      "  'left=%s, right=%s') % (left, right))\n",
      "/Library/Python/2.7/site-packages/matplotlib/axes/_base.py:3045: UserWarning: Attempting to set identical bottom==top results\n",
      "in singular transformations; automatically expanding.\n",
      "bottom=-0.0, top=0.0\n",
      "  'bottom=%s, top=%s') % (bottom, top))\n"
     ]
    },
    {
     "data": {
      "image/png": "[encoded data removed]",
      "text/plain": [
       "<matplotlib.figure.Figure at 0x10ac70c50>"
      ]
     },
     "metadata": {},
     "output_type": "display_data"
    }
   ],
   "source": [
    "sim.move_to_com()\n",
    "fig=rb.OrbitPlot(sim)"
   ]
  },
  {
   "cell_type": "code",
   "execution_count": 383,
   "metadata": {
    "collapsed": false,
    "scrolled": false
   },
   "outputs": [
    {
     "data": {
      "image/png": "[encoded data removed]",
      "text/plain": [
       "<matplotlib.figure.Figure at 0x10bc52790>"
      ]
     },
     "metadata": {},
     "output_type": "display_data"
    },
    {
     "data": {
      "image/png": "[encoded data removed]",
      "text/plain": [
       "<matplotlib.figure.Figure at 0x10bc52f90>"
      ]
     },
     "metadata": {},
     "output_type": "display_data"
    }
   ],
   "source": [
    "res.plot()\n",
    "if not params['abrupt']:\n",
    "    res1.plot()\n",
    "res2.plot()"
   ]
  },
  {
   "cell_type": "code",
   "execution_count": 384,
   "metadata": {
    "collapsed": false,
    "scrolled": true
   },
   "outputs": [
    {
     "data": {
      "image/png": "[encoded data removed]",
      "text/plain": [
       "<matplotlib.figure.Figure at 0x10c1e8750>"
      ]
     },
     "metadata": {},
     "output_type": "display_data"
    }
   ],
   "source": [
    "res2.plot_laplace()"
   ]
  },
  {
   "cell_type": "code",
   "execution_count": 380,
   "metadata": {
    "collapsed": false
   },
   "outputs": [
    {
     "data": {
      "text/plain": [
       "9734.4914571410372"
      ]
     },
     "execution_count": 380,
     "metadata": {},
     "output_type": "execute_result"
    }
   ],
   "source": [
    "np.log(.9/.34)*params['tau_e']*params['K']"
   ]
  },
  {
   "cell_type": "code",
   "execution_count": null,
   "metadata": {
    "collapsed": true
   },
   "outputs": [],
   "source": []
  }
 ],
 "metadata": {
  "kernelspec": {
   "display_name": "Python 2",
   "language": "python",
   "name": "python2"
  },
  "language_info": {
   "codemirror_mode": {
    "name": "ipython",
    "version": 2
   },
   "file_extension": ".py",
   "mimetype": "text/x-python",
   "name": "python",
   "nbconvert_exporter": "python",
   "pygments_lexer": "ipython2",
   "version": "2.7.10"
  }
 },
 "nbformat": 4,
 "nbformat_minor": 0
}
