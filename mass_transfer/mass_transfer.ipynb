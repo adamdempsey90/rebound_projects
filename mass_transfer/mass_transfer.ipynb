{
 "cells": [
  {
   "cell_type": "code",
   "execution_count": 14,
   "metadata": {
    "collapsed": false
   },
   "outputs": [],
   "source": [
    "import rebound as rb\n",
    "import numpy as np\n",
    "import matplotlib.pyplot as plt\n",
    "%matplotlib inline"
   ]
  },
  {
   "cell_type": "code",
   "execution_count": 3,
   "metadata": {
    "collapsed": true
   },
   "outputs": [],
   "source": [
    "pars = [{'m':1},{'m':1,'a':1}]"
   ]
  },
  {
   "cell_type": "code",
   "execution_count": 2,
   "metadata": {
    "collapsed": true
   },
   "outputs": [],
   "source": [
    "def isoForce(sim):\n",
    "    sim.calculate_orbits()\n",
    "    ps = sim.particles\n",
    "    mdot = 1e-5\n",
    "    mtot = ps[0].m + ps[1].m\n",
    "    eps = -dt*mdot/mtot\n",
    "    fac_a = ps[1].a * (1 + ps[1].e**2 + 2*ps[1].e*np.cos(ps[1].f))/(1 - ps[1].e**2)\n",
    "    fac_e = (ps[1].e + np.cos(ps[1].f))\n",
    "    ps[1].a += eps * fac_a\n",
    "    ps[1].e += eps * fac_e\n",
    "    "
   ]
  },
  {
   "cell_type": "code",
   "execution_count": 18,
   "metadata": {
    "collapsed": true
   },
   "outputs": [],
   "source": [
    "sim = rb.Simulation()\n",
    "for p in pars:\n",
    "    sim.add(**p)\n",
    "sim.move_to_com()"
   ]
  },
  {
   "cell_type": "code",
   "execution_count": 22,
   "metadata": {
    "collapsed": false
   },
   "outputs": [],
   "source": [
    "sim.additional_forces = isoForce\n",
    "sim.force_is_velocity_dependent = True"
   ]
  },
  {
   "cell_type": "code",
   "execution_count": 23,
   "metadata": {
    "collapsed": false
   },
   "outputs": [
    {
     "data": {
      "image/png": "[encoded data removed]",
      "text/plain": [
       "<matplotlib.figure.Figure at 0x10fe25d10>"
      ]
     },
     "metadata": {},
     "output_type": "display_data"
    }
   ],
   "source": [
    "sim.move_to_com()\n",
    "rb.OrbitPlot(sim);"
   ]
  },
  {
   "cell_type": "code",
   "execution_count": null,
   "metadata": {
    "collapsed": true
   },
   "outputs": [],
   "source": []
  }
 ],
 "metadata": {
  "kernelspec": {
   "display_name": "Python 2",
   "language": "python",
   "name": "python2"
  },
  "language_info": {
   "codemirror_mode": {
    "name": "ipython",
    "version": 2
   },
   "file_extension": ".py",
   "mimetype": "text/x-python",
   "name": "python",
   "nbconvert_exporter": "python",
   "pygments_lexer": "ipython2",
   "version": "2.7.11"
  }
 },
 "nbformat": 4,
 "nbformat_minor": 0
}
